{
 "cells": [
  {
   "cell_type": "code",
   "execution_count": 2,
   "id": "53af5b68",
   "metadata": {},
   "outputs": [
    {
     "ename": "ModuleNotFoundError",
     "evalue": "No module named 'filters.DatesFiliter'",
     "output_type": "error",
     "traceback": [
      "\u001b[31m---------------------------------------------------------------------------\u001b[39m",
      "\u001b[31mModuleNotFoundError\u001b[39m                       Traceback (most recent call last)",
      "\u001b[36mCell\u001b[39m\u001b[36m \u001b[39m\u001b[32mIn[2]\u001b[39m\u001b[32m, line 2\u001b[39m\n\u001b[32m      1\u001b[39m \u001b[38;5;28;01mfrom\u001b[39;00m\u001b[38;5;250m \u001b[39m\u001b[34;01mPipeLines\u001b[39;00m\u001b[38;5;250m \u001b[39m\u001b[38;5;28;01mimport\u001b[39;00m PipeLine\n\u001b[32m----> \u001b[39m\u001b[32m2\u001b[39m \u001b[38;5;28;01mfrom\u001b[39;00m\u001b[38;5;250m \u001b[39m\u001b[34;01mfilters\u001b[39;00m\u001b[34;01m.\u001b[39;00m\u001b[34;01mDatesFiliter\u001b[39;00m\u001b[38;5;250m \u001b[39m\u001b[38;5;28;01mimport\u001b[39;00m DatesFilter\n\u001b[32m      3\u001b[39m \u001b[38;5;28;01mimport\u001b[39;00m\u001b[38;5;250m \u001b[39m\u001b[34;01mdatetime\u001b[39;00m\n\u001b[32m      4\u001b[39m \u001b[38;5;28;01mfrom\u001b[39;00m\u001b[38;5;250m \u001b[39m\u001b[34;01mmodels\u001b[39;00m\u001b[34;01m.\u001b[39;00m\u001b[34;01mSalesPerson\u001b[39;00m\u001b[38;5;250m \u001b[39m\u001b[38;5;28;01mimport\u001b[39;00m SalesPerson\n",
      "\u001b[31mModuleNotFoundError\u001b[39m: No module named 'filters.DatesFiliter'"
     ]
    }
   ],
   "source": [
    "from PipeLines import PipeLine\n",
    "from filters.DatesFiliter import DatesFilter\n",
    "import datetime\n",
    "from models.SalesPerson import SalesPerson\n",
    "\n",
    "pipeLine = PipeLine()\n",
    "data = pipeLine.run()\n",
    "filter = DatesFilter()\n",
    "newData = filter(['we_called','leads'],data,datetime.datetime(2025,10,6),datetime.datetime(2025,10,11))\n",
    "\n"
   ]
  },
  {
   "cell_type": "code",
   "execution_count": null,
   "id": "4f7d5d7e",
   "metadata": {},
   "outputs": [
    {
     "data": {
      "text/plain": [
       "(0, 1)"
      ]
     },
     "execution_count": 17,
     "metadata": {},
     "output_type": "execute_result"
    }
   ],
   "source": [
    "index = 2\n",
    "len(newData[index].stagesModel.companies), len(data[index].stagesModel.companies)"
   ]
  },
  {
   "cell_type": "code",
   "execution_count": null,
   "id": "f22b3a09",
   "metadata": {},
   "outputs": [],
   "source": [
    "# data[1].stagesModel.companies"
   ]
  },
  {
   "cell_type": "code",
   "execution_count": null,
   "id": "951f983a",
   "metadata": {},
   "outputs": [
    {
     "name": "stdout",
     "output_type": "stream",
     "text": [
      "<pandas.io.excel._base.ExcelFile object at 0x000001C1C26C4990>\n"
     ]
    }
   ],
   "source": []
  },
  {
   "cell_type": "code",
   "execution_count": null,
   "id": "fa85f442",
   "metadata": {},
   "outputs": [
    {
     "ename": "TypeError",
     "evalue": "'method' object is not subscriptable",
     "output_type": "error",
     "traceback": [
      "\u001b[31m---------------------------------------------------------------------------\u001b[39m",
      "\u001b[31mTypeError\u001b[39m                                 Traceback (most recent call last)",
      "\u001b[36mCell\u001b[39m\u001b[36m \u001b[39m\u001b[32mIn[19]\u001b[39m\u001b[32m, line 2\u001b[39m\n\u001b[32m      1\u001b[39m df = pd.read_excel(\u001b[33m\"\u001b[39m\u001b[33mdata/magdi reports.xlsx\u001b[39m\u001b[33m\"\u001b[39m, sheet_name=\u001b[33m'\u001b[39m\u001b[33mSheet2\u001b[39m\u001b[33m'\u001b[39m)\n\u001b[32m----> \u001b[39m\u001b[32m2\u001b[39m \u001b[43mdf\u001b[49m\u001b[43m.\u001b[49m\u001b[43mdrop\u001b[49m\u001b[43m[\u001b[49m\u001b[33;43m'\u001b[39;49m\u001b[33;43mWebsite\u001b[39;49m\u001b[33;43m'\u001b[39;49m\u001b[43m]\u001b[49m\n",
      "\u001b[31mTypeError\u001b[39m: 'method' object is not subscriptable"
     ]
    }
   ],
   "source": [
    "df = pd.read_excel(\"data/magdi reports.xlsx\", sheet_name='Sheet2')\n"
   ]
  },
  {
   "cell_type": "code",
   "execution_count": null,
   "id": "e8ff33b3",
   "metadata": {},
   "outputs": [
    {
     "data": {
      "text/plain": [
       "15"
      ]
     },
     "execution_count": 3,
     "metadata": {},
     "output_type": "execute_result"
    }
   ],
   "source": [
    "from models.Company import Company\n",
    "import datetime\n",
    "Company.working_days(datetime.datetime(2025,10,5),datetime.datetime(2025,10,24))"
   ]
  },
  {
   "cell_type": "code",
   "execution_count": null,
   "id": "eed398a8",
   "metadata": {},
   "outputs": [
    {
     "data": {
      "text/plain": [
       "[2, 43, 4, 2, 4]"
      ]
     },
     "execution_count": 5,
     "metadata": {},
     "output_type": "execute_result"
    }
   ],
   "source": [
    "t = [2,43,4,2,4]\n",
    "t"
   ]
  },
  {
   "cell_type": "code",
   "execution_count": null,
   "id": "9d20675f",
   "metadata": {},
   "outputs": [
    {
     "ename": "IndexError",
     "evalue": "list assignment index out of range",
     "output_type": "error",
     "traceback": [
      "\u001b[31m---------------------------------------------------------------------------\u001b[39m",
      "\u001b[31mIndexError\u001b[39m                                Traceback (most recent call last)",
      "\u001b[36mCell\u001b[39m\u001b[36m \u001b[39m\u001b[32mIn[14]\u001b[39m\u001b[32m, line 1\u001b[39m\n\u001b[32m----> \u001b[39m\u001b[32m1\u001b[39m \u001b[38;5;28;01mdel\u001b[39;00m \u001b[43mt\u001b[49m\u001b[43m[\u001b[49m\u001b[32;43m1\u001b[39;49m\u001b[43m]\u001b[49m\n",
      "\u001b[31mIndexError\u001b[39m: list assignment index out of range"
     ]
    }
   ],
   "source": []
  },
  {
   "cell_type": "code",
   "execution_count": null,
   "id": "c983d986",
   "metadata": {},
   "outputs": [
    {
     "data": {
      "text/plain": [
       "[2]"
      ]
     },
     "execution_count": 15,
     "metadata": {},
     "output_type": "execute_result"
    }
   ],
   "source": [
    "t"
   ]
  },
  {
   "cell_type": "code",
   "execution_count": null,
   "id": "9442c26e",
   "metadata": {},
   "outputs": [
    {
     "name": "stdout",
     "output_type": "stream",
     "text": [
      "Final URL: https://onedrive.live.com/personal/9e29cc812c55c476/_layouts/15/Doc.aspx?sourcedoc=%7B94e8b92f-464b-45ab-ad1e-f9ac85666fb0%7D&action=default&redeem=aHR0cHM6Ly8xZHJ2Lm1zL3gvYy85ZTI5Y2M4MTJjNTVjNDc2L0VTLTU2SlJMUnF0RnJSNzVySVZtYjdBQnlwUVhWUEs2d1NKeDJEZEdQRHpRM0E_ZT1WSjZhV28&slrid=c8ccd3a1-5045-e000-7217-0e5d6ffc0928&originalPath=aHR0cHM6Ly8xZHJ2Lm1zL3gvYy85ZTI5Y2M4MTJjNTVjNDc2L0VTLTU2SlJMUnF0RnJSNzVySVZtYjdBQnlwUVhWUEs2d1NKeDJEZEdQRHpRM0E_cnRpbWU9c0dZRTlSWVcza2c&CID=389f7d26-5964-4cf1-b4c5-8bf68affe128&_SRM=0:G:42\n",
      "✅ File downloaded successfully!\n"
     ]
    }
   ],
   "source": [
    "import requests\n",
    "\n",
    "shared_url = \"https://1drv.ms/x/c/9e29cc812c55c476/ES-56JRLRqtFrR75rIVmb7ABypQXVPK6wSJx2DdGPDzQ3A?e=VJ6aWo\"\n",
    "\n",
    "# Step 1: Follow redirects manually\n",
    "session = requests.Session()\n",
    "response = session.get(shared_url, allow_redirects=True)\n",
    "\n",
    "print(\"Final URL:\", response.url)\n",
    "r = requests.get(response.url)\n",
    "with open(\"file.xlsx\", \"wb\") as f:\n",
    "    f.write(r.content)\n",
    "\n",
    "print(\"✅ File downloaded successfully!\")"
   ]
  },
  {
   "cell_type": "code",
   "execution_count": null,
   "id": "3992f2cf",
   "metadata": {},
   "outputs": [
    {
     "name": "stdout",
     "output_type": "stream",
     "text": [
      "Final URL: https://onedrive.live.com/personal/9e29cc812c55c476/_layouts/15/Doc.aspx?sourcedoc=%7B94e8b92f-464b-45ab-ad1e-f9ac85666fb0%7D&action=default&redeem=aHR0cHM6Ly8xZHJ2Lm1zL3gvYy85ZTI5Y2M4MTJjNTVjNDc2L0VTLTU2SlJMUnF0RnJSNzVySVZtYjdBQnlwUVhWUEs2d1NKeDJEZEdQRHpRM0E_ZT1WSjZhV28&slrid=eeccd3a1-6053-e000-7217-0546c347bc1f&originalPath=aHR0cHM6Ly8xZHJ2Lm1zL3gvYy85ZTI5Y2M4MTJjNTVjNDc2L0VTLTU2SlJMUnF0RnJSNzVySVZtYjdBQnlwUVhWUEs2d1NKeDJEZEdQRHpRM0E_cnRpbWU9UEtUc1VSY1cza2c&CID=fcf770a3-5f84-4fc3-8316-617c1ec3a499&_SRM=0:G:38\n"
     ]
    }
   ],
   "source": [
    "import requests\n",
    "session = requests.Session()\n",
    "r = session.get(shared_url, allow_redirects=True)\n",
    "print(\"Final URL:\", r.url)\n"
   ]
  },
  {
   "cell_type": "code",
   "execution_count": null,
   "id": "1ee99297",
   "metadata": {},
   "outputs": [
    {
     "name": "stdout",
     "output_type": "stream",
     "text": [
      "❌ Error: 401\n"
     ]
    }
   ],
   "source": [
    "import requests\n",
    "\n",
    "url = \"https://onedrive.live.com/personal/9e29cc812c55c476/_layouts/15/Doc.aspx?sourcedoc=%7B94e8b92f-464b-45ab-ad1e-f9ac85666fb0%7D&action=default&download=1\"\n",
    "response = requests.get(url, allow_redirects=True)\n",
    "\n",
    "if response.status_code == 200:\n",
    "    with open(\"file.xlsx\", \"wb\") as f:\n",
    "        f.write(response.content)\n",
    "    print(\"✅ Downloaded successfully\")\n",
    "else:\n",
    "    print(\"❌ Error:\", response.status_code)\n"
   ]
  },
  {
   "cell_type": "code",
   "execution_count": null,
   "id": "1a3bc1ec",
   "metadata": {},
   "outputs": [
    {
     "name": "stdout",
     "output_type": "stream",
     "text": [
      "❌ Error: 401 {\"error\":{\"code\":\"InvalidAuthenticationToken\",\"message\":\"IDX14100: JWT is not well formed, there are no dots (.).\\nThe token needs to be in JWS or JWE Compact Serialization Format. (JWS): 'EncodedHeader.EncodedPayload.EncodedSignature'. (JWE): 'EncodedProtectedHeader.EncodedEncryptedKey.EncodedInitializationVector.EncodedCiphertext.EncodedAuthenticationTag'.\",\"innerError\":{\"date\":\"2025-10-28T11:45:17\",\"request-id\":\"e92aeb84-510a-4a59-b44d-ac35d5b38578\",\"client-request-id\":\"e92aeb84-510a-4a59-b44d-ac35d5b38578\"}}}\n"
     ]
    }
   ],
   "source": [
    "import requests, base64, json\n",
    "\n",
    "shared_url = \"https://1drv.ms/x/c/9e29cc812c55c476/ES-56JRLRqtFrR75rIVmb7ABypQXVPK6wSJx2DdGPDzQ3A?e=53cT1f\"\n",
    "\n",
    "# Encode the share link\n",
    "encoded = base64.urlsafe_b64encode(shared_url.encode()).decode().rstrip(\"=\")\n",
    "\n",
    "# Construct Graph API URL\n",
    "api_url = f\"https://graph.microsoft.com/v1.0/shares/u!{encoded}/driveItem/content\"\n",
    "\n",
    "headers = {\"Authorization\": \"Bearer YOUR_ACCESS_TOKEN\"}\n",
    "\n",
    "r = requests.get(api_url, headers=headers)\n",
    "\n",
    "if r.status_code == 200:\n",
    "    with open(\"file.xlsx\", \"wb\") as f:\n",
    "        f.write(r.content)\n",
    "    print(\"✅ File downloaded\")\n",
    "else:\n",
    "    print(\"❌ Error:\", r.status_code, r.text)\n"
   ]
  },
  {
   "cell_type": "code",
   "execution_count": 15,
   "id": "e0e87ee2",
   "metadata": {},
   "outputs": [
    {
     "name": "stderr",
     "output_type": "stream",
     "text": [
      "c:\\Users\\HP\\OneDrive\\Documents\\GitHub\\DataAnalyzer\\PipeLines\\PreProcessingPipeLine\\__init__.py:116: SettingWithCopyWarning: \n",
      "A value is trying to be set on a copy of a slice from a DataFrame\n",
      "\n",
      "See the caveats in the documentation: https://pandas.pydata.org/pandas-docs/stable/user_guide/indexing.html#returning-a-view-versus-a-copy\n",
      "  tt['We called'] = self.update\n"
     ]
    }
   ],
   "source": [
    "from PipeLines.PreProcessingPipeLine import PreProcessingTotalsPipeLine\n",
    "from PipeLines.LoadingPipeLine import LoadingPipeLine\n",
    "from models.TotalModel import TotalSalesPerson\n",
    "from datetime import datetime\n",
    "loadingPipeLine = LoadingPipeLine()\n",
    "preprocessing = PreProcessingTotalsPipeLine()\n",
    "data,names = loadingPipeLine.run()\n",
    "data = preprocessing.run(data,names)\n"
   ]
  },
  {
   "cell_type": "code",
   "execution_count": 16,
   "id": "36f0b6ff",
   "metadata": {},
   "outputs": [
    {
     "data": {
      "text/plain": [
       "{'total': [\"Damin insurance's opportunity\",\n",
       "  'Mefc',\n",
       "  'Abdul latif jameel Finance',\n",
       "  'Abdulatif Jamil Finance',\n",
       "  'MEFC',\n",
       "  'Damin Broker',\n",
       "  'Alsharq Flexible',\n",
       "  'Meras Medical Holding Company',\n",
       "  'Amin insurance broker',\n",
       "  'saco',\n",
       "  'alnaim clinic',\n",
       "  'Cloud Insurance Broker'],\n",
       " 'details': {'3nb': [\"Damin insurance's opportunity\",\n",
       "   'Mefc',\n",
       "   'Abdul latif jameel Finance',\n",
       "   'Abdulatif Jamil Finance',\n",
       "   'MEFC',\n",
       "   'Damin Broker',\n",
       "   'Alsharq Flexible',\n",
       "   'Meras Medical Holding Company',\n",
       "   'Amin insurance broker'],\n",
       "  'khloud': ['saco', 'alnaim clinic'],\n",
       "  'magdi': ['Cloud Insurance Broker']}}"
      ]
     },
     "execution_count": 16,
     "metadata": {},
     "output_type": "execute_result"
    }
   ],
   "source": [
    "new_data = TotalSalesPerson.getTotalMeetings(TotalSalesPerson.filter_by(\n",
    "data,\n",
    "datetime(2025,10,7),\n",
    "datetime(2025,10,21)\n",
    "))\n",
    "new_data"
   ]
  },
  {
   "cell_type": "code",
   "execution_count": null,
   "id": "0a8e5848",
   "metadata": {},
   "outputs": [],
   "source": []
  }
 ],
 "metadata": {
  "kernelspec": {
   "display_name": ".venv",
   "language": "python",
   "name": "python3"
  },
  "language_info": {
   "codemirror_mode": {
    "name": "ipython",
    "version": 3
   },
   "file_extension": ".py",
   "mimetype": "text/x-python",
   "name": "python",
   "nbconvert_exporter": "python",
   "pygments_lexer": "ipython3",
   "version": "3.11.9"
  }
 },
 "nbformat": 4,
 "nbformat_minor": 5
}
